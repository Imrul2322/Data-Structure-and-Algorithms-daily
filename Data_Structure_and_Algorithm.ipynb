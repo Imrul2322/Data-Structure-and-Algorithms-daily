{
  "nbformat": 4,
  "nbformat_minor": 0,
  "metadata": {
    "colab": {
      "name": "Data Structure and Algorithm.ipynb",
      "provenance": [],
      "authorship_tag": "ABX9TyMTJIrVOL8bhITFIS1BNuon"
    },
    "kernelspec": {
      "name": "python3",
      "display_name": "Python 3"
    },
    "language_info": {
      "name": "python"
    }
  },
  "cells": [
    {
      "cell_type": "markdown",
      "source": [
        "### DS 1 Day 1\n",
        "\n",
        "Given an integer array nums, return true if any value appears at least twice in the array, and return false if every element is distinct.\n",
        "```\n",
        "class Solution:\n",
        "    def containsDuplicate(self, nums: List[int]) -> bool:\n",
        "        def unique(list1):\n",
        "            list_set = set(list1)\n",
        "            list_set = list(list_set)\n",
        "            return list_set\n",
        "            \n",
        "        unique_list = unique(nums)\n",
        "        return len(unique_list) != len(nums)\n",
        "```\n",
        "\n"
      ],
      "metadata": {
        "id": "C0l0xy3Wol9W"
      }
    },
    {
      "cell_type": "markdown",
      "source": [
        "### DS 1 Day 1\n",
        "\n",
        "Given an integer array nums, find the contiguous subarray (containing at least one number) which has the largest sum and return its sum.\n",
        "\n",
        "A subarray is a contiguous part of an array.\n",
        "\n",
        "**Optimized bruce force**\n",
        "```\n",
        "class Solution:\n",
        "    def maxSubArray(self, nums: List[int]) -> int:\n",
        "        max_subarray = -math.inf\n",
        "        for i in range(len(nums)):\n",
        "            current_subarray = 0\n",
        "            for j in range(i, len(nums)):\n",
        "                current_subarray += nums[j]\n",
        "                max_subarray = max(max_subarray, current_subarray)\n",
        "                \n",
        "        return max_subarray\n",
        "```\n",
        "\n",
        "\n",
        "Dynamic Programming (Kadane's alg)\n",
        "\n",
        "\n",
        "\n",
        "```\n",
        "class Solution:\n",
        "    def maxSubArray(self, nums: List[int]) -> int:\n",
        "        current_subarray = max_subarray = nums[0]\n",
        "        \n",
        "        for num in nums[1:]:\n",
        "            current_subarray = max(num, current_subarray + num)\n",
        "            max_subarray = max(max_subarray, current_subarray)\n",
        "            \n",
        "        return max_subarray\n",
        "```\n",
        "\n",
        "\n",
        "\n",
        "\n",
        "\n"
      ],
      "metadata": {
        "id": "qzotrskMtckx"
      }
    },
    {
      "cell_type": "markdown",
      "source": [
        "### 977. Squares of a Sorted Array\n",
        "\n",
        "```\n",
        "class Solution:\n",
        "    def sortedSquares(self, nums: List[int]) -> List[int]:\n",
        "        return sorted(element * element for element in nums)\n",
        "```\n",
        "\n"
      ],
      "metadata": {
        "id": "3KuGIgMa4Wt_"
      }
    },
    {
      "cell_type": "markdown",
      "source": [
        "### 189. Rotate Array\n",
        "\n",
        "```\n",
        "class Solution:\n",
        "    def rotate(self, nums: List[int], k: int) -> None:\n",
        "        \"\"\"\n",
        "        Do not return anything, modify nums in-place instead.\n",
        "        \"\"\"\n",
        "        nums1 = list(nums)\n",
        "        \n",
        "        for i in range(len(nums)):\n",
        "            new_pos = i + k\n",
        "            if new_pos > len(nums) - 1:\n",
        "                while new_pos > len(nums) - 1:\n",
        "                    new_pos = new_pos - len(nums)\n",
        "            \n",
        "            nums[new_pos] = nums1[i]\n",
        "        \n",
        "        return nums\n",
        "            \n",
        "```\n",
        "\n"
      ],
      "metadata": {
        "id": "NSLTHXaV4sWU"
      }
    },
    {
      "cell_type": "markdown",
      "source": [
        "### 283. Move Zeroes\n",
        "\n",
        "```\n",
        "class Solution:\n",
        "    def moveZeroes(self, nums: List[int]) -> None:\n",
        "        \"\"\"\n",
        "        Do not return anything, modify nums in-place instead.\n",
        "        \"\"\"\n",
        "        start = 0\n",
        "        count = 0\n",
        "        \n",
        "        while start < len(nums):\n",
        "            \n",
        "            if nums[start] == 0:\n",
        "                count += 1\n",
        "                nums.pop(start)\n",
        "            else:    \n",
        "                start += 1\n",
        "            \n",
        "        nums.extend([0]*count)\n",
        "        return nums\n",
        "```\n",
        "\n"
      ],
      "metadata": {
        "id": "tPvBBiBL5XDt"
      }
    },
    {
      "cell_type": "markdown",
      "source": [
        "### 167. Two Sum II - Input Array Is Sorted\n",
        "\n",
        "```\n",
        "class Solution:\n",
        "    def twoSum(self, numbers: List[int], target: int) -> List[int]:\n",
        "        start = 0\n",
        "        end = len(numbers) - 1\n",
        "        while start < end:\n",
        "            if numbers[start] + numbers[end] < target:\n",
        "                start += 1\n",
        "            elif numbers[start] + numbers[end] > target:\n",
        "                end -= 1\n",
        "            else:\n",
        "                return (start+1, end+1)\n",
        "```\n",
        "\n"
      ],
      "metadata": {
        "id": "5MirloT25sL4"
      }
    },
    {
      "cell_type": "markdown",
      "source": [
        "### 344. Reverse String\n",
        "\n",
        "```\n",
        "class Solution:\n",
        "    def reverseString(self, s: List[str]) -> None:\n",
        "        \"\"\"\n",
        "        Do not return anything, modify s in-place instead.\n",
        "        \"\"\"\n",
        "        left = 0\n",
        "        right = len(s) - 1\n",
        "        while left <= right:\n",
        "            s[left], s[right] = s[right], s[left]\n",
        "            \n",
        "            left += 1\n",
        "            right -= 1\n",
        "            \n",
        "```\n",
        "\n"
      ],
      "metadata": {
        "id": "gY6RTe6l531o"
      }
    },
    {
      "cell_type": "markdown",
      "source": [
        "### 557. Reverse Words in a String III\n",
        "\n",
        "```\n",
        "class Solution:\n",
        "    def reverseWords(self, s: str) -> str:\n",
        "\n",
        "        words = ' '.join([s]).split()\n",
        "        result = []\n",
        "        for word in words:\n",
        "            word = list(word)\n",
        "            \n",
        "            start = 0\n",
        "            end = len(word) - 1\n",
        "            \n",
        "            \n",
        "            while start <= end:\n",
        "                word[start], word[end] = word[end], word[start]\n",
        "                start += 1\n",
        "                end -= 1\n",
        "            result.append(''.join(word))\n",
        "        \n",
        "        \n",
        "        return ' '.join(result)\n",
        "```\n",
        "\n"
      ],
      "metadata": {
        "id": "bZBVpBwR6P0K"
      }
    },
    {
      "cell_type": "markdown",
      "source": [
        "### 1. Two Sum\n",
        "\n",
        "```\n",
        "class Solution:\n",
        "    def twoSum(self, nums: List[int], target: int) -> List[int]:\n",
        "        \n",
        "        for index, value in enumerate(nums):\n",
        "            if (target - value) in nums and nums.index(target-value) != index:\n",
        "                return index, nums.index(target-value)\n",
        "```\n",
        "\n"
      ],
      "metadata": {
        "id": "EDei-Yqr9jPE"
      }
    },
    {
      "cell_type": "markdown",
      "source": [
        "### 88. Merge Sorted Array\n",
        "\n",
        "```\n",
        "class Solution:\n",
        "    def merge(self, nums1: List[int], m: int, nums2: List[int], n: int) -> None:\n",
        "        \"\"\"\n",
        "        Do not return anything, modify nums1 in-place instead.\n",
        "        \"\"\"\n",
        "        nums1[m : m+n] = nums2\n",
        "        return nums1.sort()\n",
        "```\n",
        "\n"
      ],
      "metadata": {
        "id": "-0frMCd0_Jq-"
      }
    },
    {
      "cell_type": "markdown",
      "source": [
        "### 350. Intersection of Two Arrays II\n",
        "\n",
        "my solution\n",
        "```\n",
        "class Solution:\n",
        "    def intersect(self, nums1: List[int], nums2: List[int]) -> List[int]:\n",
        "        m = len(nums1)\n",
        "        n = len(nums2)\n",
        "        intersection = []\n",
        "        \n",
        "        if m >= n:\n",
        "            for index, value in enumerate(nums2):\n",
        "                if value in nums1:\n",
        "                    intersection.append(value)\n",
        "                    nums1.pop(nums1.index(value))\n",
        "                    \n",
        "        else:\n",
        "            for index, value in enumerate(nums1):\n",
        "                if value in nums2:\n",
        "                    intersection.append(value)\n",
        "                    nums2.pop(nums2.index(value))\n",
        "                    \n",
        "        return intersection\n",
        "```\n",
        "\n",
        "\n",
        "using hashmap\n",
        "```\n",
        "class Solution:\n",
        "    def intersect(self, nums1: List[int], nums2: List[int]) -> List[int]:\n",
        "        \n",
        "        hashmap = {}\n",
        "        result = []\n",
        "        for element in nums1:\n",
        "            if element in hashmap:\n",
        "                hashmap[element] += 1\n",
        "            else:\n",
        "                hashmap[element] = 1\n",
        "                \n",
        "        \n",
        "        for element in nums2:\n",
        "            if element in hashmap and hashmap[element] > 0:\n",
        "                hashmap[element] -= 1\n",
        "                result.append(element)\n",
        "                \n",
        "        return result\n",
        "```\n",
        "\n",
        "using sort\n",
        "\n",
        "\n",
        "```\n",
        "class Solution:\n",
        "    def intersect(self, nums1: List[int], nums2: List[int]) -> List[int]:\n",
        "        \n",
        "        nums1.sort()\n",
        "        nums2.sort()\n",
        "        \n",
        "        i = j = k = 0\n",
        "        \n",
        "        while (i < len(nums1) and j < len(nums2)):\n",
        "            if nums1[i] < nums2[j]:\n",
        "                i += 1\n",
        "            elif nums1[i] > nums2[j]:\n",
        "                j += 1\n",
        "            else:\n",
        "                nums1[k] = nums1[i]\n",
        "                i += 1\n",
        "                j += 1\n",
        "                k += 1\n",
        "                \n",
        "        return nums1[0:k]\n",
        "                \n",
        "```\n",
        "\n"
      ],
      "metadata": {
        "id": "g-fU9zPAF2oQ"
      }
    },
    {
      "cell_type": "markdown",
      "source": [
        "121. Best Time to Buy and Sell Stock\n",
        "\n",
        "\n",
        "Brut Force (time limit exceeded) my solution\n",
        "\n",
        "```\n",
        "class Solution:\n",
        "    def maxProfit(self, prices: List[int]) -> int:\n",
        "        max_profit = 0\n",
        "        \n",
        "        for i in range(len(prices)):\n",
        "            for j in range(i+1, len(prices)):\n",
        "                max_profit = max(max_profit, prices[j] - prices[i])\n",
        "                \n",
        "        return max_profit\n",
        "```\n",
        "\n",
        "One pass (accepted)\n",
        "\n",
        "```\n",
        "class Solution:\n",
        "    def maxProfit(self, prices: List[int]) -> int:\n",
        "        max_profit = 0\n",
        "        min_price = float('inf')\n",
        "        \n",
        "        for i in range(len(prices)):\n",
        "            if prices[i] < min_price:\n",
        "                min_price = prices[i]\n",
        "            \n",
        "            elif max_profit < prices[i] - min_price:\n",
        "                max_profit = prices[i] - min_price\n",
        "                \n",
        "        return max_profit\n",
        "```\n",
        "\n"
      ],
      "metadata": {
        "id": "bMJTlNmsVfZu"
      }
    },
    {
      "cell_type": "markdown",
      "source": [
        "### 566. Reshape the Matrix\n",
        "\n",
        "\n",
        "my solution\n",
        "```\n",
        "class Solution:\n",
        "    def matrixReshape(self, mat: List[List[int]], r: int, c: int) -> List[List[int]]:\n",
        "        m = len(mat)\n",
        "        n = len(mat[0])\n",
        "        \n",
        "        if m*n != r*c:\n",
        "            return mat\n",
        "        else:\n",
        "            mat1 = []\n",
        "            for element in mat:\n",
        "                mat1.extend(element)\n",
        "            \n",
        "            new_mat = [[0 for x in range(c)] for y in range(r)]\n",
        "            index = 0\n",
        "            for i in range(r):\n",
        "                for j in range(c):\n",
        "                    \n",
        "                    new_mat[i][j] = mat1[index]\n",
        "                    index += 1\n",
        "            return new_mat\n",
        "```\n",
        "\n",
        "using division and modulus\n",
        "\n",
        "\n",
        "\n",
        "```\n",
        "class Solution:\n",
        "    def matrixReshape(self, mat: List[List[int]], r: int, c: int) -> List[List[int]]:\n",
        "        m = len(mat)\n",
        "        n = len(mat[0])\n",
        "        \n",
        "        if m*n != r*c:\n",
        "            return mat\n",
        "        else:\n",
        "            \n",
        "            new_mat = [[0 for x in range(c)] for y in range(r)]\n",
        "            index = 0\n",
        "            for i in range(m):\n",
        "                for j in range(n):\n",
        "                    new_mat[int(index / c)][int(index % c)] = mat[i][j]\n",
        "                    index += 1\n",
        "                    \n",
        "        return new_mat\n",
        "```\n",
        "\n",
        "\n"
      ],
      "metadata": {
        "id": "4E-4JwLxv052"
      }
    },
    {
      "cell_type": "markdown",
      "source": [
        "### 118. Pascal's Triangle\n",
        "\n",
        "```\n",
        "class Solution:\n",
        "    def generate(self, numRows: int) -> List[List[int]]:\n",
        "        \n",
        "        triangle = []\n",
        "        \n",
        "        for row_num in range(numRows):\n",
        "            \n",
        "            row = [None for _ in range(row_num + 1)]\n",
        "            row[0], row[-1] = 1, 1\n",
        "            \n",
        "            \n",
        "            for j in range(1, len(row) - 1):\n",
        "                row[j] = triangle[row_num-1][j-1] + triangle[row_num-1][j]\n",
        "                \n",
        "            triangle.append(row)\n",
        "        return triangle\n",
        "```\n",
        "\n"
      ],
      "metadata": {
        "id": "g-nsQEW05bj1"
      }
    },
    {
      "cell_type": "code",
      "execution_count": null,
      "metadata": {
        "id": "NsX5hV7VojL1"
      },
      "outputs": [],
      "source": [
        ""
      ]
    }
  ]
}