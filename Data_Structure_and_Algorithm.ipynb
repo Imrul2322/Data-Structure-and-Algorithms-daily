{
  "nbformat": 4,
  "nbformat_minor": 0,
  "metadata": {
    "colab": {
      "name": "Data Structure and Algorithm.ipynb",
      "provenance": [],
      "authorship_tag": "ABX9TyNK0ETsm1IKTF6Ra+5SyZpu"
    },
    "kernelspec": {
      "name": "python3",
      "display_name": "Python 3"
    },
    "language_info": {
      "name": "python"
    }
  },
  "cells": [
    {
      "cell_type": "markdown",
      "source": [
        "### DS 1 Day 1\n",
        "\n",
        "Given an integer array nums, return true if any value appears at least twice in the array, and return false if every element is distinct.\n",
        "```\n",
        "class Solution:\n",
        "    def containsDuplicate(self, nums: List[int]) -> bool:\n",
        "        def unique(list1):\n",
        "            list_set = set(list1)\n",
        "            list_set = list(list_set)\n",
        "            return list_set\n",
        "            \n",
        "        unique_list = unique(nums)\n",
        "        return len(unique_list) != len(nums)\n",
        "```\n",
        "\n"
      ],
      "metadata": {
        "id": "C0l0xy3Wol9W"
      }
    },
    {
      "cell_type": "markdown",
      "source": [
        "### DS 1 Day 1\n",
        "\n",
        "Given an integer array nums, find the contiguous subarray (containing at least one number) which has the largest sum and return its sum.\n",
        "\n",
        "A subarray is a contiguous part of an array.\n",
        "\n",
        "**Optimized bruce force**\n",
        "```\n",
        "class Solution:\n",
        "    def maxSubArray(self, nums: List[int]) -> int:\n",
        "        max_subarray = -math.inf\n",
        "        for i in range(len(nums)):\n",
        "            current_subarray = 0\n",
        "            for j in range(i, len(nums)):\n",
        "                current_subarray += nums[j]\n",
        "                max_subarray = max(max_subarray, current_subarray)\n",
        "                \n",
        "        return max_subarray\n",
        "```\n",
        "\n",
        "\n",
        "Dynamic Programming (Kadane's alg)\n",
        "\n",
        "\n",
        "\n",
        "```\n",
        "class Solution:\n",
        "    def maxSubArray(self, nums: List[int]) -> int:\n",
        "        current_subarray = max_subarray = nums[0]\n",
        "        \n",
        "        for num in nums[1:]:\n",
        "            current_subarray = max(num, current_subarray + num)\n",
        "            max_subarray = max(max_subarray, current_subarray)\n",
        "            \n",
        "        return max_subarray\n",
        "```\n",
        "\n",
        "\n",
        "\n",
        "\n",
        "\n"
      ],
      "metadata": {
        "id": "qzotrskMtckx"
      }
    },
    {
      "cell_type": "code",
      "execution_count": null,
      "metadata": {
        "id": "NsX5hV7VojL1"
      },
      "outputs": [],
      "source": [
        ""
      ]
    }
  ]
}